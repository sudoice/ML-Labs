{
 "cells": [
  {
   "cell_type": "code",
   "execution_count": 392,
   "id": "eee4104b-b55e-41a7-9789-e4964c10b4df",
   "metadata": {},
   "outputs": [],
   "source": [
    "import numpy as np\n",
    "import pandas as pd"
   ]
  },
  {
   "cell_type": "code",
   "execution_count": 393,
   "id": "0551c3e7-801c-40a0-959a-6c7198ca9adc",
   "metadata": {},
   "outputs": [],
   "source": [
    "from sklearn.datasets import fetch_california_housing"
   ]
  },
  {
   "cell_type": "code",
   "execution_count": 394,
   "id": "75ae4085-8fdb-4165-af67-18b306fe070b",
   "metadata": {},
   "outputs": [
    {
     "data": {
      "text/plain": [
       "{'data': array([[   8.3252    ,   41.        ,    6.98412698, ...,    2.55555556,\n",
       "           37.88      , -122.23      ],\n",
       "        [   8.3014    ,   21.        ,    6.23813708, ...,    2.10984183,\n",
       "           37.86      , -122.22      ],\n",
       "        [   7.2574    ,   52.        ,    8.28813559, ...,    2.80225989,\n",
       "           37.85      , -122.24      ],\n",
       "        ...,\n",
       "        [   1.7       ,   17.        ,    5.20554273, ...,    2.3256351 ,\n",
       "           39.43      , -121.22      ],\n",
       "        [   1.8672    ,   18.        ,    5.32951289, ...,    2.12320917,\n",
       "           39.43      , -121.32      ],\n",
       "        [   2.3886    ,   16.        ,    5.25471698, ...,    2.61698113,\n",
       "           39.37      , -121.24      ]]),\n",
       " 'target': array([4.526, 3.585, 3.521, ..., 0.923, 0.847, 0.894]),\n",
       " 'frame': None,\n",
       " 'target_names': ['MedHouseVal'],\n",
       " 'feature_names': ['MedInc',\n",
       "  'HouseAge',\n",
       "  'AveRooms',\n",
       "  'AveBedrms',\n",
       "  'Population',\n",
       "  'AveOccup',\n",
       "  'Latitude',\n",
       "  'Longitude'],\n",
       " 'DESCR': '.. _california_housing_dataset:\\n\\nCalifornia Housing dataset\\n--------------------------\\n\\n**Data Set Characteristics:**\\n\\n    :Number of Instances: 20640\\n\\n    :Number of Attributes: 8 numeric, predictive attributes and the target\\n\\n    :Attribute Information:\\n        - MedInc        median income in block group\\n        - HouseAge      median house age in block group\\n        - AveRooms      average number of rooms per household\\n        - AveBedrms     average number of bedrooms per household\\n        - Population    block group population\\n        - AveOccup      average number of household members\\n        - Latitude      block group latitude\\n        - Longitude     block group longitude\\n\\n    :Missing Attribute Values: None\\n\\nThis dataset was obtained from the StatLib repository.\\nhttps://www.dcc.fc.up.pt/~ltorgo/Regression/cal_housing.html\\n\\nThe target variable is the median house value for California districts,\\nexpressed in hundreds of thousands of dollars ($100,000).\\n\\nThis dataset was derived from the 1990 U.S. census, using one row per census\\nblock group. A block group is the smallest geographical unit for which the U.S.\\nCensus Bureau publishes sample data (a block group typically has a population\\nof 600 to 3,000 people).\\n\\nA household is a group of people residing within a home. Since the average\\nnumber of rooms and bedrooms in this dataset are provided per household, these\\ncolumns may take surprisingly large values for block groups with few households\\nand many empty houses, such as vacation resorts.\\n\\nIt can be downloaded/loaded using the\\n:func:`sklearn.datasets.fetch_california_housing` function.\\n\\n.. topic:: References\\n\\n    - Pace, R. Kelley and Ronald Barry, Sparse Spatial Autoregressions,\\n      Statistics and Probability Letters, 33 (1997) 291-297\\n'}"
      ]
     },
     "execution_count": 394,
     "metadata": {},
     "output_type": "execute_result"
    }
   ],
   "source": [
    "dataset = fetch_california_housing()\n",
    "dataset"
   ]
  },
  {
   "cell_type": "code",
   "execution_count": 395,
   "id": "f376be9e-438b-4c07-8c7e-0f73e0188c50",
   "metadata": {},
   "outputs": [
    {
     "data": {
      "text/html": [
       "<div>\n",
       "<style scoped>\n",
       "    .dataframe tbody tr th:only-of-type {\n",
       "        vertical-align: middle;\n",
       "    }\n",
       "\n",
       "    .dataframe tbody tr th {\n",
       "        vertical-align: top;\n",
       "    }\n",
       "\n",
       "    .dataframe thead th {\n",
       "        text-align: right;\n",
       "    }\n",
       "</style>\n",
       "<table border=\"1\" class=\"dataframe\">\n",
       "  <thead>\n",
       "    <tr style=\"text-align: right;\">\n",
       "      <th></th>\n",
       "      <th>MedInc</th>\n",
       "      <th>HouseAge</th>\n",
       "      <th>AveRooms</th>\n",
       "      <th>AveBedrms</th>\n",
       "      <th>Population</th>\n",
       "      <th>AveOccup</th>\n",
       "      <th>Latitude</th>\n",
       "      <th>Longitude</th>\n",
       "    </tr>\n",
       "  </thead>\n",
       "  <tbody>\n",
       "    <tr>\n",
       "      <th>0</th>\n",
       "      <td>8.3252</td>\n",
       "      <td>41.0</td>\n",
       "      <td>6.984127</td>\n",
       "      <td>1.023810</td>\n",
       "      <td>322.0</td>\n",
       "      <td>2.555556</td>\n",
       "      <td>37.88</td>\n",
       "      <td>-122.23</td>\n",
       "    </tr>\n",
       "    <tr>\n",
       "      <th>1</th>\n",
       "      <td>8.3014</td>\n",
       "      <td>21.0</td>\n",
       "      <td>6.238137</td>\n",
       "      <td>0.971880</td>\n",
       "      <td>2401.0</td>\n",
       "      <td>2.109842</td>\n",
       "      <td>37.86</td>\n",
       "      <td>-122.22</td>\n",
       "    </tr>\n",
       "    <tr>\n",
       "      <th>2</th>\n",
       "      <td>7.2574</td>\n",
       "      <td>52.0</td>\n",
       "      <td>8.288136</td>\n",
       "      <td>1.073446</td>\n",
       "      <td>496.0</td>\n",
       "      <td>2.802260</td>\n",
       "      <td>37.85</td>\n",
       "      <td>-122.24</td>\n",
       "    </tr>\n",
       "    <tr>\n",
       "      <th>3</th>\n",
       "      <td>5.6431</td>\n",
       "      <td>52.0</td>\n",
       "      <td>5.817352</td>\n",
       "      <td>1.073059</td>\n",
       "      <td>558.0</td>\n",
       "      <td>2.547945</td>\n",
       "      <td>37.85</td>\n",
       "      <td>-122.25</td>\n",
       "    </tr>\n",
       "    <tr>\n",
       "      <th>4</th>\n",
       "      <td>3.8462</td>\n",
       "      <td>52.0</td>\n",
       "      <td>6.281853</td>\n",
       "      <td>1.081081</td>\n",
       "      <td>565.0</td>\n",
       "      <td>2.181467</td>\n",
       "      <td>37.85</td>\n",
       "      <td>-122.25</td>\n",
       "    </tr>\n",
       "    <tr>\n",
       "      <th>...</th>\n",
       "      <td>...</td>\n",
       "      <td>...</td>\n",
       "      <td>...</td>\n",
       "      <td>...</td>\n",
       "      <td>...</td>\n",
       "      <td>...</td>\n",
       "      <td>...</td>\n",
       "      <td>...</td>\n",
       "    </tr>\n",
       "    <tr>\n",
       "      <th>20635</th>\n",
       "      <td>1.5603</td>\n",
       "      <td>25.0</td>\n",
       "      <td>5.045455</td>\n",
       "      <td>1.133333</td>\n",
       "      <td>845.0</td>\n",
       "      <td>2.560606</td>\n",
       "      <td>39.48</td>\n",
       "      <td>-121.09</td>\n",
       "    </tr>\n",
       "    <tr>\n",
       "      <th>20636</th>\n",
       "      <td>2.5568</td>\n",
       "      <td>18.0</td>\n",
       "      <td>6.114035</td>\n",
       "      <td>1.315789</td>\n",
       "      <td>356.0</td>\n",
       "      <td>3.122807</td>\n",
       "      <td>39.49</td>\n",
       "      <td>-121.21</td>\n",
       "    </tr>\n",
       "    <tr>\n",
       "      <th>20637</th>\n",
       "      <td>1.7000</td>\n",
       "      <td>17.0</td>\n",
       "      <td>5.205543</td>\n",
       "      <td>1.120092</td>\n",
       "      <td>1007.0</td>\n",
       "      <td>2.325635</td>\n",
       "      <td>39.43</td>\n",
       "      <td>-121.22</td>\n",
       "    </tr>\n",
       "    <tr>\n",
       "      <th>20638</th>\n",
       "      <td>1.8672</td>\n",
       "      <td>18.0</td>\n",
       "      <td>5.329513</td>\n",
       "      <td>1.171920</td>\n",
       "      <td>741.0</td>\n",
       "      <td>2.123209</td>\n",
       "      <td>39.43</td>\n",
       "      <td>-121.32</td>\n",
       "    </tr>\n",
       "    <tr>\n",
       "      <th>20639</th>\n",
       "      <td>2.3886</td>\n",
       "      <td>16.0</td>\n",
       "      <td>5.254717</td>\n",
       "      <td>1.162264</td>\n",
       "      <td>1387.0</td>\n",
       "      <td>2.616981</td>\n",
       "      <td>39.37</td>\n",
       "      <td>-121.24</td>\n",
       "    </tr>\n",
       "  </tbody>\n",
       "</table>\n",
       "<p>20640 rows × 8 columns</p>\n",
       "</div>"
      ],
      "text/plain": [
       "       MedInc  HouseAge  AveRooms  AveBedrms  Population  AveOccup  Latitude  \\\n",
       "0      8.3252      41.0  6.984127   1.023810       322.0  2.555556     37.88   \n",
       "1      8.3014      21.0  6.238137   0.971880      2401.0  2.109842     37.86   \n",
       "2      7.2574      52.0  8.288136   1.073446       496.0  2.802260     37.85   \n",
       "3      5.6431      52.0  5.817352   1.073059       558.0  2.547945     37.85   \n",
       "4      3.8462      52.0  6.281853   1.081081       565.0  2.181467     37.85   \n",
       "...       ...       ...       ...        ...         ...       ...       ...   \n",
       "20635  1.5603      25.0  5.045455   1.133333       845.0  2.560606     39.48   \n",
       "20636  2.5568      18.0  6.114035   1.315789       356.0  3.122807     39.49   \n",
       "20637  1.7000      17.0  5.205543   1.120092      1007.0  2.325635     39.43   \n",
       "20638  1.8672      18.0  5.329513   1.171920       741.0  2.123209     39.43   \n",
       "20639  2.3886      16.0  5.254717   1.162264      1387.0  2.616981     39.37   \n",
       "\n",
       "       Longitude  \n",
       "0        -122.23  \n",
       "1        -122.22  \n",
       "2        -122.24  \n",
       "3        -122.25  \n",
       "4        -122.25  \n",
       "...          ...  \n",
       "20635    -121.09  \n",
       "20636    -121.21  \n",
       "20637    -121.22  \n",
       "20638    -121.32  \n",
       "20639    -121.24  \n",
       "\n",
       "[20640 rows x 8 columns]"
      ]
     },
     "execution_count": 395,
     "metadata": {},
     "output_type": "execute_result"
    }
   ],
   "source": [
    "df = pd.DataFrame(dataset['data'], columns=dataset['feature_names'])\n",
    "df"
   ]
  },
  {
   "cell_type": "code",
   "execution_count": 396,
   "id": "65b9a3d7-0a3a-45e6-83d5-76789c94a3c4",
   "metadata": {},
   "outputs": [
    {
     "data": {
      "text/plain": [
       "array([4.526, 3.585, 3.521, ..., 0.923, 0.847, 0.894])"
      ]
     },
     "execution_count": 396,
     "metadata": {},
     "output_type": "execute_result"
    }
   ],
   "source": [
    "X = df\n",
    "Y = dataset['target']\n",
    "Y"
   ]
  },
  {
   "cell_type": "code",
   "execution_count": 397,
   "id": "6a2c300c-e582-45d3-b65a-cb85887d2487",
   "metadata": {},
   "outputs": [],
   "source": [
    "from sklearn.model_selection import train_test_split"
   ]
  },
  {
   "cell_type": "code",
   "execution_count": 398,
   "id": "2a45bfd5-6f25-4a34-9725-69d6c7631d4a",
   "metadata": {},
   "outputs": [],
   "source": [
    "X_train, X_test, Y_train, Y_test = train_test_split(X,Y, test_size=0.2)"
   ]
  },
  {
   "cell_type": "code",
   "execution_count": 399,
   "id": "50add69c-60a8-49cf-a221-91cf17e84a4b",
   "metadata": {},
   "outputs": [
    {
     "data": {
      "text/html": [
       "<div>\n",
       "<style scoped>\n",
       "    .dataframe tbody tr th:only-of-type {\n",
       "        vertical-align: middle;\n",
       "    }\n",
       "\n",
       "    .dataframe tbody tr th {\n",
       "        vertical-align: top;\n",
       "    }\n",
       "\n",
       "    .dataframe thead th {\n",
       "        text-align: right;\n",
       "    }\n",
       "</style>\n",
       "<table border=\"1\" class=\"dataframe\">\n",
       "  <thead>\n",
       "    <tr style=\"text-align: right;\">\n",
       "      <th></th>\n",
       "      <th>MedInc</th>\n",
       "      <th>HouseAge</th>\n",
       "      <th>AveRooms</th>\n",
       "      <th>AveBedrms</th>\n",
       "      <th>Population</th>\n",
       "      <th>AveOccup</th>\n",
       "      <th>Latitude</th>\n",
       "      <th>Longitude</th>\n",
       "    </tr>\n",
       "  </thead>\n",
       "  <tbody>\n",
       "    <tr>\n",
       "      <th>18477</th>\n",
       "      <td>5.9356</td>\n",
       "      <td>14.0</td>\n",
       "      <td>6.688196</td>\n",
       "      <td>1.017817</td>\n",
       "      <td>2915.0</td>\n",
       "      <td>3.246102</td>\n",
       "      <td>37.11</td>\n",
       "      <td>-121.65</td>\n",
       "    </tr>\n",
       "    <tr>\n",
       "      <th>3765</th>\n",
       "      <td>4.3750</td>\n",
       "      <td>35.0</td>\n",
       "      <td>4.864532</td>\n",
       "      <td>0.945813</td>\n",
       "      <td>882.0</td>\n",
       "      <td>2.172414</td>\n",
       "      <td>34.18</td>\n",
       "      <td>-118.41</td>\n",
       "    </tr>\n",
       "    <tr>\n",
       "      <th>18830</th>\n",
       "      <td>2.2976</td>\n",
       "      <td>25.0</td>\n",
       "      <td>4.976923</td>\n",
       "      <td>1.223077</td>\n",
       "      <td>1000.0</td>\n",
       "      <td>2.564103</td>\n",
       "      <td>41.80</td>\n",
       "      <td>-123.38</td>\n",
       "    </tr>\n",
       "    <tr>\n",
       "      <th>868</th>\n",
       "      <td>5.6758</td>\n",
       "      <td>15.0</td>\n",
       "      <td>6.017804</td>\n",
       "      <td>1.020772</td>\n",
       "      <td>4576.0</td>\n",
       "      <td>3.394659</td>\n",
       "      <td>37.58</td>\n",
       "      <td>-122.06</td>\n",
       "    </tr>\n",
       "    <tr>\n",
       "      <th>18151</th>\n",
       "      <td>3.6991</td>\n",
       "      <td>19.0</td>\n",
       "      <td>3.746450</td>\n",
       "      <td>1.050710</td>\n",
       "      <td>2496.0</td>\n",
       "      <td>2.531440</td>\n",
       "      <td>37.34</td>\n",
       "      <td>-122.04</td>\n",
       "    </tr>\n",
       "    <tr>\n",
       "      <th>...</th>\n",
       "      <td>...</td>\n",
       "      <td>...</td>\n",
       "      <td>...</td>\n",
       "      <td>...</td>\n",
       "      <td>...</td>\n",
       "      <td>...</td>\n",
       "      <td>...</td>\n",
       "      <td>...</td>\n",
       "    </tr>\n",
       "    <tr>\n",
       "      <th>17876</th>\n",
       "      <td>4.8145</td>\n",
       "      <td>25.0</td>\n",
       "      <td>4.385194</td>\n",
       "      <td>1.046424</td>\n",
       "      <td>2484.0</td>\n",
       "      <td>3.116688</td>\n",
       "      <td>37.39</td>\n",
       "      <td>-121.99</td>\n",
       "    </tr>\n",
       "    <tr>\n",
       "      <th>17851</th>\n",
       "      <td>4.4712</td>\n",
       "      <td>20.0</td>\n",
       "      <td>3.428934</td>\n",
       "      <td>0.944162</td>\n",
       "      <td>1427.0</td>\n",
       "      <td>3.621827</td>\n",
       "      <td>37.44</td>\n",
       "      <td>-121.88</td>\n",
       "    </tr>\n",
       "    <tr>\n",
       "      <th>6460</th>\n",
       "      <td>4.7931</td>\n",
       "      <td>36.0</td>\n",
       "      <td>5.462585</td>\n",
       "      <td>1.081633</td>\n",
       "      <td>889.0</td>\n",
       "      <td>3.023810</td>\n",
       "      <td>34.10</td>\n",
       "      <td>-118.05</td>\n",
       "    </tr>\n",
       "    <tr>\n",
       "      <th>8991</th>\n",
       "      <td>6.4310</td>\n",
       "      <td>30.0</td>\n",
       "      <td>7.063910</td>\n",
       "      <td>0.849624</td>\n",
       "      <td>740.0</td>\n",
       "      <td>2.781955</td>\n",
       "      <td>34.00</td>\n",
       "      <td>-118.35</td>\n",
       "    </tr>\n",
       "    <tr>\n",
       "      <th>10328</th>\n",
       "      <td>8.7124</td>\n",
       "      <td>15.0</td>\n",
       "      <td>8.042735</td>\n",
       "      <td>1.089744</td>\n",
       "      <td>1448.0</td>\n",
       "      <td>3.094017</td>\n",
       "      <td>33.84</td>\n",
       "      <td>-117.76</td>\n",
       "    </tr>\n",
       "  </tbody>\n",
       "</table>\n",
       "<p>16512 rows × 8 columns</p>\n",
       "</div>"
      ],
      "text/plain": [
       "       MedInc  HouseAge  AveRooms  AveBedrms  Population  AveOccup  Latitude  \\\n",
       "18477  5.9356      14.0  6.688196   1.017817      2915.0  3.246102     37.11   \n",
       "3765   4.3750      35.0  4.864532   0.945813       882.0  2.172414     34.18   \n",
       "18830  2.2976      25.0  4.976923   1.223077      1000.0  2.564103     41.80   \n",
       "868    5.6758      15.0  6.017804   1.020772      4576.0  3.394659     37.58   \n",
       "18151  3.6991      19.0  3.746450   1.050710      2496.0  2.531440     37.34   \n",
       "...       ...       ...       ...        ...         ...       ...       ...   \n",
       "17876  4.8145      25.0  4.385194   1.046424      2484.0  3.116688     37.39   \n",
       "17851  4.4712      20.0  3.428934   0.944162      1427.0  3.621827     37.44   \n",
       "6460   4.7931      36.0  5.462585   1.081633       889.0  3.023810     34.10   \n",
       "8991   6.4310      30.0  7.063910   0.849624       740.0  2.781955     34.00   \n",
       "10328  8.7124      15.0  8.042735   1.089744      1448.0  3.094017     33.84   \n",
       "\n",
       "       Longitude  \n",
       "18477    -121.65  \n",
       "3765     -118.41  \n",
       "18830    -123.38  \n",
       "868      -122.06  \n",
       "18151    -122.04  \n",
       "...          ...  \n",
       "17876    -121.99  \n",
       "17851    -121.88  \n",
       "6460     -118.05  \n",
       "8991     -118.35  \n",
       "10328    -117.76  \n",
       "\n",
       "[16512 rows x 8 columns]"
      ]
     },
     "execution_count": 399,
     "metadata": {},
     "output_type": "execute_result"
    }
   ],
   "source": [
    "X_train"
   ]
  },
  {
   "cell_type": "code",
   "execution_count": 400,
   "id": "94767707-3015-41e6-b568-a3e600f63dbf",
   "metadata": {},
   "outputs": [],
   "source": [
    "from sklearn.preprocessing import StandardScaler"
   ]
  },
  {
   "cell_type": "code",
   "execution_count": 401,
   "id": "2004de9d-1cd1-4d86-8337-9ba43ded82be",
   "metadata": {},
   "outputs": [],
   "source": [
    "s = StandardScaler()"
   ]
  },
  {
   "cell_type": "code",
   "execution_count": 402,
   "id": "a0883e90-83db-428d-9e15-9cb187171a3d",
   "metadata": {},
   "outputs": [
    {
     "data": {
      "text/plain": [
       "array([[ 1.07821176e+00, -1.15374713e+00,  5.12670219e-01, ...,\n",
       "         1.58257081e-02,  6.85586730e-01, -1.03448798e+00],\n",
       "       [ 2.59108186e-01,  5.11680897e-01, -2.32311377e-01, ...,\n",
       "        -8.23713542e-02, -6.84216931e-01,  5.81224839e-01],\n",
       "       [-8.31245373e-01, -2.81380066e-01, -1.86398714e-01, ...,\n",
       "        -4.65484120e-02,  2.87820761e+00, -1.89719884e+00],\n",
       "       ...,\n",
       "       [ 4.78554043e-01,  5.90986993e-01,  1.19981540e-02, ...,\n",
       "        -4.50468482e-03, -7.21617713e-01,  7.60748486e-01],\n",
       "       [ 1.33822964e+00,  1.15150415e-01,  6.66152362e-01, ...,\n",
       "        -2.66241462e-02, -7.68368691e-01,  6.11145447e-01],\n",
       "       [ 2.53565556e+00, -1.07444103e+00,  1.06601046e+00, ...,\n",
       "         1.91633593e-03, -8.43170256e-01,  9.05364757e-01]])"
      ]
     },
     "execution_count": 402,
     "metadata": {},
     "output_type": "execute_result"
    }
   ],
   "source": [
    "X_train = s.fit_transform(X_train)\n",
    "X_train"
   ]
  },
  {
   "cell_type": "code",
   "execution_count": 403,
   "id": "c69f3d78-e6da-49cd-82cf-4143fec0b6ed",
   "metadata": {},
   "outputs": [
    {
     "data": {
      "text/plain": [
       "array([[-0.89659101,  1.30474186, -0.66403901, ...,  0.03588074,\n",
       "         0.98479299, -1.29878668],\n",
       "       [-0.19169795,  1.30474186, -0.31493742, ..., -0.02719386,\n",
       "        -0.7496683 ,  0.60615868],\n",
       "       [ 0.93744309, -1.39166541,  0.31200027, ...,  0.01687503,\n",
       "        -1.22652828,  1.36414741],\n",
       "       ...,\n",
       "       [-0.95464102,  0.5116809 , -0.32940002, ..., -0.04217328,\n",
       "         1.14374632, -0.84000403],\n",
       "       [-0.03974967, -1.39166541, -0.59000616, ..., -0.05228441,\n",
       "        -0.87122084,  0.81560293],\n",
       "       [ 0.86259741, -0.51929835,  0.28928377, ...,  0.01031643,\n",
       "        -1.3854816 ,  1.29433266]])"
      ]
     },
     "execution_count": 403,
     "metadata": {},
     "output_type": "execute_result"
    }
   ],
   "source": [
    "X_test = s.transform(X_test)\n",
    "X_test"
   ]
  },
  {
   "cell_type": "code",
   "execution_count": 404,
   "id": "adc5cd1a-ceed-4aad-a87f-c984714ea217",
   "metadata": {},
   "outputs": [],
   "source": [
    "from sklearn.linear_model import LinearRegression\n",
    "from sklearn.model_selection import cross_val_score"
   ]
  },
  {
   "cell_type": "code",
   "execution_count": 405,
   "id": "5dfc992b-27d5-457a-bbc3-bee6cc060082",
   "metadata": {},
   "outputs": [],
   "source": [
    "model = LinearRegression()"
   ]
  },
  {
   "cell_type": "code",
   "execution_count": 406,
   "id": "4793361b-0c5e-4b52-94ed-9c6b1019f1a6",
   "metadata": {},
   "outputs": [
    {
     "data": {
      "text/html": [
       "<style>#sk-container-id-21 {color: black;background-color: white;}#sk-container-id-21 pre{padding: 0;}#sk-container-id-21 div.sk-toggleable {background-color: white;}#sk-container-id-21 label.sk-toggleable__label {cursor: pointer;display: block;width: 100%;margin-bottom: 0;padding: 0.3em;box-sizing: border-box;text-align: center;}#sk-container-id-21 label.sk-toggleable__label-arrow:before {content: \"▸\";float: left;margin-right: 0.25em;color: #696969;}#sk-container-id-21 label.sk-toggleable__label-arrow:hover:before {color: black;}#sk-container-id-21 div.sk-estimator:hover label.sk-toggleable__label-arrow:before {color: black;}#sk-container-id-21 div.sk-toggleable__content {max-height: 0;max-width: 0;overflow: hidden;text-align: left;background-color: #f0f8ff;}#sk-container-id-21 div.sk-toggleable__content pre {margin: 0.2em;color: black;border-radius: 0.25em;background-color: #f0f8ff;}#sk-container-id-21 input.sk-toggleable__control:checked~div.sk-toggleable__content {max-height: 200px;max-width: 100%;overflow: auto;}#sk-container-id-21 input.sk-toggleable__control:checked~label.sk-toggleable__label-arrow:before {content: \"▾\";}#sk-container-id-21 div.sk-estimator input.sk-toggleable__control:checked~label.sk-toggleable__label {background-color: #d4ebff;}#sk-container-id-21 div.sk-label input.sk-toggleable__control:checked~label.sk-toggleable__label {background-color: #d4ebff;}#sk-container-id-21 input.sk-hidden--visually {border: 0;clip: rect(1px 1px 1px 1px);clip: rect(1px, 1px, 1px, 1px);height: 1px;margin: -1px;overflow: hidden;padding: 0;position: absolute;width: 1px;}#sk-container-id-21 div.sk-estimator {font-family: monospace;background-color: #f0f8ff;border: 1px dotted black;border-radius: 0.25em;box-sizing: border-box;margin-bottom: 0.5em;}#sk-container-id-21 div.sk-estimator:hover {background-color: #d4ebff;}#sk-container-id-21 div.sk-parallel-item::after {content: \"\";width: 100%;border-bottom: 1px solid gray;flex-grow: 1;}#sk-container-id-21 div.sk-label:hover label.sk-toggleable__label {background-color: #d4ebff;}#sk-container-id-21 div.sk-serial::before {content: \"\";position: absolute;border-left: 1px solid gray;box-sizing: border-box;top: 0;bottom: 0;left: 50%;z-index: 0;}#sk-container-id-21 div.sk-serial {display: flex;flex-direction: column;align-items: center;background-color: white;padding-right: 0.2em;padding-left: 0.2em;position: relative;}#sk-container-id-21 div.sk-item {position: relative;z-index: 1;}#sk-container-id-21 div.sk-parallel {display: flex;align-items: stretch;justify-content: center;background-color: white;position: relative;}#sk-container-id-21 div.sk-item::before, #sk-container-id-21 div.sk-parallel-item::before {content: \"\";position: absolute;border-left: 1px solid gray;box-sizing: border-box;top: 0;bottom: 0;left: 50%;z-index: -1;}#sk-container-id-21 div.sk-parallel-item {display: flex;flex-direction: column;z-index: 1;position: relative;background-color: white;}#sk-container-id-21 div.sk-parallel-item:first-child::after {align-self: flex-end;width: 50%;}#sk-container-id-21 div.sk-parallel-item:last-child::after {align-self: flex-start;width: 50%;}#sk-container-id-21 div.sk-parallel-item:only-child::after {width: 0;}#sk-container-id-21 div.sk-dashed-wrapped {border: 1px dashed gray;margin: 0 0.4em 0.5em 0.4em;box-sizing: border-box;padding-bottom: 0.4em;background-color: white;}#sk-container-id-21 div.sk-label label {font-family: monospace;font-weight: bold;display: inline-block;line-height: 1.2em;}#sk-container-id-21 div.sk-label-container {text-align: center;}#sk-container-id-21 div.sk-container {/* jupyter's `normalize.less` sets `[hidden] { display: none; }` but bootstrap.min.css set `[hidden] { display: none !important; }` so we also need the `!important` here to be able to override the default hidden behavior on the sphinx rendered scikit-learn.org. See: https://github.com/scikit-learn/scikit-learn/issues/21755 */display: inline-block !important;position: relative;}#sk-container-id-21 div.sk-text-repr-fallback {display: none;}</style><div id=\"sk-container-id-21\" class=\"sk-top-container\"><div class=\"sk-text-repr-fallback\"><pre>LinearRegression()</pre><b>In a Jupyter environment, please rerun this cell to show the HTML representation or trust the notebook. <br />On GitHub, the HTML representation is unable to render, please try loading this page with nbviewer.org.</b></div><div class=\"sk-container\" hidden><div class=\"sk-item\"><div class=\"sk-estimator sk-toggleable\"><input class=\"sk-toggleable__control sk-hidden--visually\" id=\"sk-estimator-id-21\" type=\"checkbox\" checked><label for=\"sk-estimator-id-21\" class=\"sk-toggleable__label sk-toggleable__label-arrow\">LinearRegression</label><div class=\"sk-toggleable__content\"><pre>LinearRegression()</pre></div></div></div></div></div>"
      ],
      "text/plain": [
       "LinearRegression()"
      ]
     },
     "execution_count": 406,
     "metadata": {},
     "output_type": "execute_result"
    }
   ],
   "source": [
    "model.fit(X_train, Y_train)"
   ]
  },
  {
   "cell_type": "code",
   "execution_count": 407,
   "id": "42650020-cf89-4d6c-9a7c-6de0b407dd40",
   "metadata": {},
   "outputs": [],
   "source": [
    "mse = cross_val_score(model, X_train, Y_train, scoring='neg_mean_squared_error', cv=5)"
   ]
  },
  {
   "cell_type": "code",
   "execution_count": 408,
   "id": "9d61cb7d-34ed-4897-bd4d-b2bdcaf3306b",
   "metadata": {},
   "outputs": [
    {
     "data": {
      "text/plain": [
       "-0.5314865325774069"
      ]
     },
     "execution_count": 408,
     "metadata": {},
     "output_type": "execute_result"
    }
   ],
   "source": [
    "np.mean(mse)"
   ]
  },
  {
   "cell_type": "code",
   "execution_count": 409,
   "id": "38f74f1e-6e08-41bd-a6b8-10f483a939bc",
   "metadata": {},
   "outputs": [],
   "source": [
    "mse2 = cross_val_score(model, X_train, Y_train, scoring='neg_mean_absolute_error', cv=5)"
   ]
  },
  {
   "cell_type": "code",
   "execution_count": 410,
   "id": "37d54811-7a33-4289-9c30-86c9ebf1c8e5",
   "metadata": {},
   "outputs": [
    {
     "data": {
      "text/plain": [
       "-0.5305819311301017"
      ]
     },
     "execution_count": 410,
     "metadata": {},
     "output_type": "execute_result"
    }
   ],
   "source": [
    "np.mean(mse2)"
   ]
  },
  {
   "cell_type": "code",
   "execution_count": 411,
   "id": "47af7f7a-0b83-4656-a6a3-7a7a1c51049f",
   "metadata": {},
   "outputs": [],
   "source": [
    "mse3 = cross_val_score(model, X_train, Y_train, scoring='neg_mean_squared_error', cv=10)"
   ]
  },
  {
   "cell_type": "code",
   "execution_count": 412,
   "id": "f84f7518-a82d-4c5f-b945-475d0edb78fd",
   "metadata": {},
   "outputs": [
    {
     "data": {
      "text/plain": [
       "-0.5322059877523574"
      ]
     },
     "execution_count": 412,
     "metadata": {},
     "output_type": "execute_result"
    }
   ],
   "source": [
    "np.mean(mse3)"
   ]
  },
  {
   "cell_type": "code",
   "execution_count": 413,
   "id": "87dfc384-c210-40ba-a5a9-0f3a1ae01a96",
   "metadata": {},
   "outputs": [],
   "source": [
    "mdpd = model.predict(X_test)"
   ]
  },
  {
   "cell_type": "code",
   "execution_count": 414,
   "id": "e19e436a-3ded-4f2b-97e6-96e66bcad0cf",
   "metadata": {},
   "outputs": [
    {
     "data": {
      "text/plain": [
       "array([1.83481864, 2.29914651, 2.46626886, ..., 1.01863674, 2.06231873,\n",
       "       2.69531343])"
      ]
     },
     "execution_count": 414,
     "metadata": {},
     "output_type": "execute_result"
    }
   ],
   "source": [
    "mdpd"
   ]
  },
  {
   "cell_type": "code",
   "execution_count": 415,
   "id": "55b8c5df-563b-4791-8c66-688632c8617d",
   "metadata": {},
   "outputs": [],
   "source": [
    "import seaborn as sns"
   ]
  },
  {
   "cell_type": "code",
   "execution_count": 416,
   "id": "7e933082-3cc0-4428-9b75-8d5e2c9ee895",
   "metadata": {},
   "outputs": [
    {
     "name": "stderr",
     "output_type": "stream",
     "text": [
      "C:\\anaconda\\Lib\\site-packages\\seaborn\\_oldcore.py:1119: FutureWarning: use_inf_as_na option is deprecated and will be removed in a future version. Convert inf values to NaN before operating instead.\n",
      "  with pd.option_context('mode.use_inf_as_na', True):\n"
     ]
    },
    {
     "data": {
      "text/plain": [
       "<seaborn.axisgrid.FacetGrid at 0x2009cd18390>"
      ]
     },
     "execution_count": 416,
     "metadata": {},
     "output_type": "execute_result"
    },
    {
     "data": {
      "image/png": "[encoded data removed]",
      "text/plain": [
       "<Figure size 500x500 with 1 Axes>"
      ]
     },
     "metadata": {},
     "output_type": "display_data"
    }
   ],
   "source": [
    "sns.displot(Y_test-mdpd, kind='kde')"
   ]
  },
  {
   "cell_type": "code",
   "execution_count": 417,
   "id": "582a95d2-5fea-49b7-9d26-80c5b7e6615b",
   "metadata": {},
   "outputs": [
    {
     "name": "stdout",
     "output_type": "stream",
     "text": [
      "2.066162700460273\n"
     ]
    }
   ],
   "source": [
    "print(model.intercept_)"
   ]
  },
  {
   "cell_type": "code",
   "execution_count": 418,
   "id": "7f18a837-5d8e-442a-a0a9-ce5393da2cac",
   "metadata": {},
   "outputs": [
    {
     "name": "stdout",
     "output_type": "stream",
     "text": [
      "[ 0.83639116  0.11940135 -0.27887172  0.31456391 -0.00358061 -0.0448343\n",
      " -0.88199539 -0.85296905]\n"
     ]
    }
   ],
   "source": [
    "print(model.coef_)"
   ]
  },
  {
   "cell_type": "code",
   "execution_count": 419,
   "id": "5758f07a-9623-44b5-b753-6444e6eb029c",
   "metadata": {},
   "outputs": [],
   "source": [
    "#WITH TEST SIZE = 30%"
   ]
  },
  {
   "cell_type": "code",
   "execution_count": 420,
   "id": "b6ab03dd-5eff-48ae-bd2f-e6071d436c88",
   "metadata": {},
   "outputs": [],
   "source": [
    "X_train, X_test, Y_train, Y_test = train_test_split(X,Y,test_size=0.3)"
   ]
  },
  {
   "cell_type": "code",
   "execution_count": 421,
   "id": "82f6029c-9779-4624-a2f1-4641575c36a1",
   "metadata": {},
   "outputs": [
    {
     "data": {
      "text/html": [
       "<div>\n",
       "<style scoped>\n",
       "    .dataframe tbody tr th:only-of-type {\n",
       "        vertical-align: middle;\n",
       "    }\n",
       "\n",
       "    .dataframe tbody tr th {\n",
       "        vertical-align: top;\n",
       "    }\n",
       "\n",
       "    .dataframe thead th {\n",
       "        text-align: right;\n",
       "    }\n",
       "</style>\n",
       "<table border=\"1\" class=\"dataframe\">\n",
       "  <thead>\n",
       "    <tr style=\"text-align: right;\">\n",
       "      <th></th>\n",
       "      <th>MedInc</th>\n",
       "      <th>HouseAge</th>\n",
       "      <th>AveRooms</th>\n",
       "      <th>AveBedrms</th>\n",
       "      <th>Population</th>\n",
       "      <th>AveOccup</th>\n",
       "      <th>Latitude</th>\n",
       "      <th>Longitude</th>\n",
       "    </tr>\n",
       "  </thead>\n",
       "  <tbody>\n",
       "    <tr>\n",
       "      <th>12324</th>\n",
       "      <td>1.6849</td>\n",
       "      <td>17.0</td>\n",
       "      <td>8.836394</td>\n",
       "      <td>2.113523</td>\n",
       "      <td>1201.0</td>\n",
       "      <td>2.005008</td>\n",
       "      <td>33.93</td>\n",
       "      <td>-116.44</td>\n",
       "    </tr>\n",
       "    <tr>\n",
       "      <th>10011</th>\n",
       "      <td>4.0333</td>\n",
       "      <td>10.0</td>\n",
       "      <td>4.857143</td>\n",
       "      <td>1.021429</td>\n",
       "      <td>354.0</td>\n",
       "      <td>2.528571</td>\n",
       "      <td>39.15</td>\n",
       "      <td>-121.10</td>\n",
       "    </tr>\n",
       "    <tr>\n",
       "      <th>16872</th>\n",
       "      <td>5.8783</td>\n",
       "      <td>34.0</td>\n",
       "      <td>6.326821</td>\n",
       "      <td>1.003552</td>\n",
       "      <td>1542.0</td>\n",
       "      <td>2.738899</td>\n",
       "      <td>37.60</td>\n",
       "      <td>-122.42</td>\n",
       "    </tr>\n",
       "    <tr>\n",
       "      <th>9833</th>\n",
       "      <td>3.4943</td>\n",
       "      <td>40.0</td>\n",
       "      <td>5.977778</td>\n",
       "      <td>1.072222</td>\n",
       "      <td>406.0</td>\n",
       "      <td>2.255556</td>\n",
       "      <td>36.63</td>\n",
       "      <td>-121.92</td>\n",
       "    </tr>\n",
       "    <tr>\n",
       "      <th>17936</th>\n",
       "      <td>4.2656</td>\n",
       "      <td>52.0</td>\n",
       "      <td>4.841463</td>\n",
       "      <td>1.063008</td>\n",
       "      <td>1096.0</td>\n",
       "      <td>2.227642</td>\n",
       "      <td>37.35</td>\n",
       "      <td>-121.95</td>\n",
       "    </tr>\n",
       "    <tr>\n",
       "      <th>...</th>\n",
       "      <td>...</td>\n",
       "      <td>...</td>\n",
       "      <td>...</td>\n",
       "      <td>...</td>\n",
       "      <td>...</td>\n",
       "      <td>...</td>\n",
       "      <td>...</td>\n",
       "      <td>...</td>\n",
       "    </tr>\n",
       "    <tr>\n",
       "      <th>14587</th>\n",
       "      <td>3.3750</td>\n",
       "      <td>23.0</td>\n",
       "      <td>4.349174</td>\n",
       "      <td>1.084711</td>\n",
       "      <td>1218.0</td>\n",
       "      <td>2.516529</td>\n",
       "      <td>32.83</td>\n",
       "      <td>-117.18</td>\n",
       "    </tr>\n",
       "    <tr>\n",
       "      <th>16209</th>\n",
       "      <td>2.3750</td>\n",
       "      <td>52.0</td>\n",
       "      <td>4.800000</td>\n",
       "      <td>1.200000</td>\n",
       "      <td>23.0</td>\n",
       "      <td>4.600000</td>\n",
       "      <td>37.94</td>\n",
       "      <td>-121.30</td>\n",
       "    </tr>\n",
       "    <tr>\n",
       "      <th>16237</th>\n",
       "      <td>2.5043</td>\n",
       "      <td>49.0</td>\n",
       "      <td>4.547273</td>\n",
       "      <td>1.027273</td>\n",
       "      <td>1171.0</td>\n",
       "      <td>2.129091</td>\n",
       "      <td>37.98</td>\n",
       "      <td>-121.29</td>\n",
       "    </tr>\n",
       "    <tr>\n",
       "      <th>14227</th>\n",
       "      <td>4.0000</td>\n",
       "      <td>13.0</td>\n",
       "      <td>4.935185</td>\n",
       "      <td>0.983796</td>\n",
       "      <td>1345.0</td>\n",
       "      <td>3.113426</td>\n",
       "      <td>32.68</td>\n",
       "      <td>-117.04</td>\n",
       "    </tr>\n",
       "    <tr>\n",
       "      <th>11447</th>\n",
       "      <td>2.8061</td>\n",
       "      <td>14.0</td>\n",
       "      <td>4.879808</td>\n",
       "      <td>1.072115</td>\n",
       "      <td>1974.0</td>\n",
       "      <td>1.581731</td>\n",
       "      <td>33.66</td>\n",
       "      <td>-117.97</td>\n",
       "    </tr>\n",
       "  </tbody>\n",
       "</table>\n",
       "<p>14448 rows × 8 columns</p>\n",
       "</div>"
      ],
      "text/plain": [
       "       MedInc  HouseAge  AveRooms  AveBedrms  Population  AveOccup  Latitude  \\\n",
       "12324  1.6849      17.0  8.836394   2.113523      1201.0  2.005008     33.93   \n",
       "10011  4.0333      10.0  4.857143   1.021429       354.0  2.528571     39.15   \n",
       "16872  5.8783      34.0  6.326821   1.003552      1542.0  2.738899     37.60   \n",
       "9833   3.4943      40.0  5.977778   1.072222       406.0  2.255556     36.63   \n",
       "17936  4.2656      52.0  4.841463   1.063008      1096.0  2.227642     37.35   \n",
       "...       ...       ...       ...        ...         ...       ...       ...   \n",
       "14587  3.3750      23.0  4.349174   1.084711      1218.0  2.516529     32.83   \n",
       "16209  2.3750      52.0  4.800000   1.200000        23.0  4.600000     37.94   \n",
       "16237  2.5043      49.0  4.547273   1.027273      1171.0  2.129091     37.98   \n",
       "14227  4.0000      13.0  4.935185   0.983796      1345.0  3.113426     32.68   \n",
       "11447  2.8061      14.0  4.879808   1.072115      1974.0  1.581731     33.66   \n",
       "\n",
       "       Longitude  \n",
       "12324    -116.44  \n",
       "10011    -121.10  \n",
       "16872    -122.42  \n",
       "9833     -121.92  \n",
       "17936    -121.95  \n",
       "...          ...  \n",
       "14587    -117.18  \n",
       "16209    -121.30  \n",
       "16237    -121.29  \n",
       "14227    -117.04  \n",
       "11447    -117.97  \n",
       "\n",
       "[14448 rows x 8 columns]"
      ]
     },
     "execution_count": 421,
     "metadata": {},
     "output_type": "execute_result"
    }
   ],
   "source": [
    "X_train"
   ]
  },
  {
   "cell_type": "code",
   "execution_count": 422,
   "id": "d515e583-97bd-4084-a498-79c2121c77de",
   "metadata": {},
   "outputs": [
    {
     "data": {
      "text/plain": [
       "array([[-1.14814329e+00, -9.24337018e-01,  1.27799989e+00, ...,\n",
       "        -8.99722643e-02, -8.04094823e-01,  1.57022088e+00],\n",
       "       [ 9.90082648e-02, -1.48156072e+00, -2.10431765e-01, ...,\n",
       "        -4.71973031e-02,  1.64129940e+00, -7.56180934e-01],\n",
       "       [ 1.07882201e+00,  4.28920542e-01,  3.39298525e-01, ...,\n",
       "        -3.00136177e-02,  9.15176594e-01, -1.41516171e+00],\n",
       "       ...,\n",
       "       [-7.12989146e-01,  1.62297133e+00, -3.26338124e-01, ...,\n",
       "        -7.98347528e-02,  1.09319380e+00, -8.51034227e-01],\n",
       "       [ 8.13238215e-02, -1.24275056e+00, -1.81240174e-01, ...,\n",
       "         5.85150054e-04, -1.38967773e+00,  1.27068417e+00],\n",
       "       [-5.52713921e-01, -1.16314718e+00, -2.01954025e-01, ...,\n",
       "        -1.24553927e-01, -9.30580731e-01,  8.06402261e-01]])"
      ]
     },
     "execution_count": 422,
     "metadata": {},
     "output_type": "execute_result"
    }
   ],
   "source": [
    "s2 = StandardScaler()\n",
    "X_train = s2.fit_transform(X_train)\n",
    "X_train"
   ]
  },
  {
   "cell_type": "code",
   "execution_count": 423,
   "id": "8fe015f5-8cab-4372-afbe-09eaf79d074e",
   "metadata": {},
   "outputs": [],
   "source": [
    "X_test = s2.transform(X_test)"
   ]
  },
  {
   "cell_type": "code",
   "execution_count": 424,
   "id": "eef9fbbf-e44f-4984-9c7b-d03286061dd3",
   "metadata": {},
   "outputs": [],
   "source": [
    "model = LinearRegression()"
   ]
  },
  {
   "cell_type": "code",
   "execution_count": 425,
   "id": "45c3a248-f7b1-4fb8-b8a2-ee1cf27fd590",
   "metadata": {},
   "outputs": [
    {
     "data": {
      "text/html": [
       "<style>#sk-container-id-22 {color: black;background-color: white;}#sk-container-id-22 pre{padding: 0;}#sk-container-id-22 div.sk-toggleable {background-color: white;}#sk-container-id-22 label.sk-toggleable__label {cursor: pointer;display: block;width: 100%;margin-bottom: 0;padding: 0.3em;box-sizing: border-box;text-align: center;}#sk-container-id-22 label.sk-toggleable__label-arrow:before {content: \"▸\";float: left;margin-right: 0.25em;color: #696969;}#sk-container-id-22 label.sk-toggleable__label-arrow:hover:before {color: black;}#sk-container-id-22 div.sk-estimator:hover label.sk-toggleable__label-arrow:before {color: black;}#sk-container-id-22 div.sk-toggleable__content {max-height: 0;max-width: 0;overflow: hidden;text-align: left;background-color: #f0f8ff;}#sk-container-id-22 div.sk-toggleable__content pre {margin: 0.2em;color: black;border-radius: 0.25em;background-color: #f0f8ff;}#sk-container-id-22 input.sk-toggleable__control:checked~div.sk-toggleable__content {max-height: 200px;max-width: 100%;overflow: auto;}#sk-container-id-22 input.sk-toggleable__control:checked~label.sk-toggleable__label-arrow:before {content: \"▾\";}#sk-container-id-22 div.sk-estimator input.sk-toggleable__control:checked~label.sk-toggleable__label {background-color: #d4ebff;}#sk-container-id-22 div.sk-label input.sk-toggleable__control:checked~label.sk-toggleable__label {background-color: #d4ebff;}#sk-container-id-22 input.sk-hidden--visually {border: 0;clip: rect(1px 1px 1px 1px);clip: rect(1px, 1px, 1px, 1px);height: 1px;margin: -1px;overflow: hidden;padding: 0;position: absolute;width: 1px;}#sk-container-id-22 div.sk-estimator {font-family: monospace;background-color: #f0f8ff;border: 1px dotted black;border-radius: 0.25em;box-sizing: border-box;margin-bottom: 0.5em;}#sk-container-id-22 div.sk-estimator:hover {background-color: #d4ebff;}#sk-container-id-22 div.sk-parallel-item::after {content: \"\";width: 100%;border-bottom: 1px solid gray;flex-grow: 1;}#sk-container-id-22 div.sk-label:hover label.sk-toggleable__label {background-color: #d4ebff;}#sk-container-id-22 div.sk-serial::before {content: \"\";position: absolute;border-left: 1px solid gray;box-sizing: border-box;top: 0;bottom: 0;left: 50%;z-index: 0;}#sk-container-id-22 div.sk-serial {display: flex;flex-direction: column;align-items: center;background-color: white;padding-right: 0.2em;padding-left: 0.2em;position: relative;}#sk-container-id-22 div.sk-item {position: relative;z-index: 1;}#sk-container-id-22 div.sk-parallel {display: flex;align-items: stretch;justify-content: center;background-color: white;position: relative;}#sk-container-id-22 div.sk-item::before, #sk-container-id-22 div.sk-parallel-item::before {content: \"\";position: absolute;border-left: 1px solid gray;box-sizing: border-box;top: 0;bottom: 0;left: 50%;z-index: -1;}#sk-container-id-22 div.sk-parallel-item {display: flex;flex-direction: column;z-index: 1;position: relative;background-color: white;}#sk-container-id-22 div.sk-parallel-item:first-child::after {align-self: flex-end;width: 50%;}#sk-container-id-22 div.sk-parallel-item:last-child::after {align-self: flex-start;width: 50%;}#sk-container-id-22 div.sk-parallel-item:only-child::after {width: 0;}#sk-container-id-22 div.sk-dashed-wrapped {border: 1px dashed gray;margin: 0 0.4em 0.5em 0.4em;box-sizing: border-box;padding-bottom: 0.4em;background-color: white;}#sk-container-id-22 div.sk-label label {font-family: monospace;font-weight: bold;display: inline-block;line-height: 1.2em;}#sk-container-id-22 div.sk-label-container {text-align: center;}#sk-container-id-22 div.sk-container {/* jupyter's `normalize.less` sets `[hidden] { display: none; }` but bootstrap.min.css set `[hidden] { display: none !important; }` so we also need the `!important` here to be able to override the default hidden behavior on the sphinx rendered scikit-learn.org. See: https://github.com/scikit-learn/scikit-learn/issues/21755 */display: inline-block !important;position: relative;}#sk-container-id-22 div.sk-text-repr-fallback {display: none;}</style><div id=\"sk-container-id-22\" class=\"sk-top-container\"><div class=\"sk-text-repr-fallback\"><pre>LinearRegression()</pre><b>In a Jupyter environment, please rerun this cell to show the HTML representation or trust the notebook. <br />On GitHub, the HTML representation is unable to render, please try loading this page with nbviewer.org.</b></div><div class=\"sk-container\" hidden><div class=\"sk-item\"><div class=\"sk-estimator sk-toggleable\"><input class=\"sk-toggleable__control sk-hidden--visually\" id=\"sk-estimator-id-22\" type=\"checkbox\" checked><label for=\"sk-estimator-id-22\" class=\"sk-toggleable__label sk-toggleable__label-arrow\">LinearRegression</label><div class=\"sk-toggleable__content\"><pre>LinearRegression()</pre></div></div></div></div></div>"
      ],
      "text/plain": [
       "LinearRegression()"
      ]
     },
     "execution_count": 425,
     "metadata": {},
     "output_type": "execute_result"
    }
   ],
   "source": [
    "model.fit(X_train, Y_train)"
   ]
  },
  {
   "cell_type": "code",
   "execution_count": 426,
   "id": "d0194267-62b6-491f-977d-927a33bc1f24",
   "metadata": {},
   "outputs": [
    {
     "data": {
      "text/plain": [
       "array([-0.54175606, -0.50207018, -0.5266086 , -0.54997083, -0.53828392])"
      ]
     },
     "execution_count": 426,
     "metadata": {},
     "output_type": "execute_result"
    }
   ],
   "source": [
    "mse = cross_val_score(model, X_train, Y_train, scoring='neg_mean_squared_error', cv=5)\n",
    "mse"
   ]
  },
  {
   "cell_type": "code",
   "execution_count": 427,
   "id": "45864efd-9028-4f82-9ec6-5301d0fdbebc",
   "metadata": {},
   "outputs": [
    {
     "data": {
      "text/plain": [
       "-0.5317379175795539"
      ]
     },
     "execution_count": 427,
     "metadata": {},
     "output_type": "execute_result"
    }
   ],
   "source": [
    "np.mean(mse)"
   ]
  },
  {
   "cell_type": "code",
   "execution_count": 428,
   "id": "0c60852a-2b88-4112-b89d-a39d7b8f9783",
   "metadata": {},
   "outputs": [],
   "source": [
    "mse2 = cross_val_score(model, X_train, Y_train, scoring='neg_mean_absolute_error', cv=5)"
   ]
  },
  {
   "cell_type": "code",
   "execution_count": 429,
   "id": "52207ae9-5ac7-473b-bb65-879e485ce720",
   "metadata": {},
   "outputs": [
    {
     "data": {
      "text/plain": [
       "-0.5322482011573767"
      ]
     },
     "execution_count": 429,
     "metadata": {},
     "output_type": "execute_result"
    }
   ],
   "source": [
    "np.mean(mse2)"
   ]
  },
  {
   "cell_type": "code",
   "execution_count": 430,
   "id": "ef23f000-ad5a-49fc-b156-f54a2a400752",
   "metadata": {},
   "outputs": [],
   "source": [
    "mse3 = cross_val_score(model, X_train, Y_train, scoring='neg_mean_squared_error', cv=10)"
   ]
  },
  {
   "cell_type": "code",
   "execution_count": 431,
   "id": "34d831d3-2d7a-4d4c-a38d-6a7446d4a7f5",
   "metadata": {},
   "outputs": [
    {
     "data": {
      "text/plain": [
       "-0.5319656530702396"
      ]
     },
     "execution_count": 431,
     "metadata": {},
     "output_type": "execute_result"
    }
   ],
   "source": [
    "np.mean(mse3)"
   ]
  },
  {
   "cell_type": "code",
   "execution_count": 432,
   "id": "835e884a-4817-483d-b58e-71884963ad58",
   "metadata": {},
   "outputs": [
    {
     "data": {
      "text/plain": [
       "array([2.04279902, 2.67566553, 1.05857602, ..., 2.34768355, 2.96215706,\n",
       "       1.9140132 ])"
      ]
     },
     "execution_count": 432,
     "metadata": {},
     "output_type": "execute_result"
    }
   ],
   "source": [
    "mdpd = model.predict(X_test)\n",
    "mdpd"
   ]
  },
  {
   "cell_type": "code",
   "execution_count": 433,
   "id": "dc1098b9-1743-4b4c-8f39-6d55377c9c8d",
   "metadata": {},
   "outputs": [
    {
     "name": "stderr",
     "output_type": "stream",
     "text": [
      "C:\\anaconda\\Lib\\site-packages\\seaborn\\_oldcore.py:1119: FutureWarning: use_inf_as_na option is deprecated and will be removed in a future version. Convert inf values to NaN before operating instead.\n",
      "  with pd.option_context('mode.use_inf_as_na', True):\n"
     ]
    },
    {
     "data": {
      "text/plain": [
       "<seaborn.axisgrid.FacetGrid at 0x2009cd853d0>"
      ]
     },
     "execution_count": 433,
     "metadata": {},
     "output_type": "execute_result"
    },
    {
     "data": {
      "image/png": "[encoded data removed]",
      "text/plain": [
       "<Figure size 500x500 with 1 Axes>"
      ]
     },
     "metadata": {},
     "output_type": "display_data"
    }
   ],
   "source": [
    "sns.displot(Y_test-mdpd, kind='kde')"
   ]
  },
  {
   "cell_type": "code",
   "execution_count": 434,
   "id": "d2b17f49-c351-4ee5-9f9b-cb88c57ef541",
   "metadata": {},
   "outputs": [
    {
     "name": "stdout",
     "output_type": "stream",
     "text": [
      "2.061800168189362\n",
      "[ 0.82748946  0.11224395 -0.28256937  0.32685885 -0.007933   -0.0417547\n",
      " -0.89806815 -0.87455215]\n"
     ]
    }
   ],
   "source": [
    "print(model.intercept_)\n",
    "print(model.coef_)"
   ]
  },
  {
   "cell_type": "code",
   "execution_count": 435,
   "id": "29c5209c-0201-4481-aac8-81f105828498",
   "metadata": {},
   "outputs": [],
   "source": [
    "#WITH TEST SIZE = 40%"
   ]
  },
  {
   "cell_type": "code",
   "execution_count": 436,
   "id": "6009da6f-572a-42a9-a643-51ee9dfef84b",
   "metadata": {},
   "outputs": [],
   "source": [
    "X_train, X_test, Y_train, Y_test = train_test_split(X,Y,test_size=0.4)"
   ]
  },
  {
   "cell_type": "code",
   "execution_count": 437,
   "id": "ccabb350-7e2a-40bf-87a4-6312dabd3373",
   "metadata": {},
   "outputs": [
    {
     "data": {
      "text/html": [
       "<div>\n",
       "<style scoped>\n",
       "    .dataframe tbody tr th:only-of-type {\n",
       "        vertical-align: middle;\n",
       "    }\n",
       "\n",
       "    .dataframe tbody tr th {\n",
       "        vertical-align: top;\n",
       "    }\n",
       "\n",
       "    .dataframe thead th {\n",
       "        text-align: right;\n",
       "    }\n",
       "</style>\n",
       "<table border=\"1\" class=\"dataframe\">\n",
       "  <thead>\n",
       "    <tr style=\"text-align: right;\">\n",
       "      <th></th>\n",
       "      <th>MedInc</th>\n",
       "      <th>HouseAge</th>\n",
       "      <th>AveRooms</th>\n",
       "      <th>AveBedrms</th>\n",
       "      <th>Population</th>\n",
       "      <th>AveOccup</th>\n",
       "      <th>Latitude</th>\n",
       "      <th>Longitude</th>\n",
       "    </tr>\n",
       "  </thead>\n",
       "  <tbody>\n",
       "    <tr>\n",
       "      <th>19939</th>\n",
       "      <td>2.7336</td>\n",
       "      <td>14.0</td>\n",
       "      <td>4.800000</td>\n",
       "      <td>0.980000</td>\n",
       "      <td>931.0</td>\n",
       "      <td>2.660000</td>\n",
       "      <td>36.30</td>\n",
       "      <td>-119.32</td>\n",
       "    </tr>\n",
       "    <tr>\n",
       "      <th>9353</th>\n",
       "      <td>6.1444</td>\n",
       "      <td>34.0</td>\n",
       "      <td>6.529268</td>\n",
       "      <td>1.002439</td>\n",
       "      <td>933.0</td>\n",
       "      <td>2.275610</td>\n",
       "      <td>37.95</td>\n",
       "      <td>-122.56</td>\n",
       "    </tr>\n",
       "    <tr>\n",
       "      <th>8147</th>\n",
       "      <td>5.3735</td>\n",
       "      <td>36.0</td>\n",
       "      <td>5.681818</td>\n",
       "      <td>0.974432</td>\n",
       "      <td>956.0</td>\n",
       "      <td>2.715909</td>\n",
       "      <td>33.83</td>\n",
       "      <td>-118.10</td>\n",
       "    </tr>\n",
       "    <tr>\n",
       "      <th>3823</th>\n",
       "      <td>2.7118</td>\n",
       "      <td>25.0</td>\n",
       "      <td>3.841004</td>\n",
       "      <td>1.235983</td>\n",
       "      <td>2723.0</td>\n",
       "      <td>2.278661</td>\n",
       "      <td>34.20</td>\n",
       "      <td>-118.47</td>\n",
       "    </tr>\n",
       "    <tr>\n",
       "      <th>1495</th>\n",
       "      <td>6.0704</td>\n",
       "      <td>26.0</td>\n",
       "      <td>7.359091</td>\n",
       "      <td>1.018182</td>\n",
       "      <td>706.0</td>\n",
       "      <td>3.209091</td>\n",
       "      <td>37.94</td>\n",
       "      <td>-122.01</td>\n",
       "    </tr>\n",
       "    <tr>\n",
       "      <th>...</th>\n",
       "      <td>...</td>\n",
       "      <td>...</td>\n",
       "      <td>...</td>\n",
       "      <td>...</td>\n",
       "      <td>...</td>\n",
       "      <td>...</td>\n",
       "      <td>...</td>\n",
       "      <td>...</td>\n",
       "    </tr>\n",
       "    <tr>\n",
       "      <th>1360</th>\n",
       "      <td>3.3661</td>\n",
       "      <td>31.0</td>\n",
       "      <td>5.586481</td>\n",
       "      <td>1.029821</td>\n",
       "      <td>1640.0</td>\n",
       "      <td>3.260437</td>\n",
       "      <td>38.05</td>\n",
       "      <td>-121.98</td>\n",
       "    </tr>\n",
       "    <tr>\n",
       "      <th>16147</th>\n",
       "      <td>4.0208</td>\n",
       "      <td>52.0</td>\n",
       "      <td>5.877432</td>\n",
       "      <td>1.107004</td>\n",
       "      <td>1479.0</td>\n",
       "      <td>2.877432</td>\n",
       "      <td>37.78</td>\n",
       "      <td>-122.47</td>\n",
       "    </tr>\n",
       "    <tr>\n",
       "      <th>17568</th>\n",
       "      <td>2.5833</td>\n",
       "      <td>52.0</td>\n",
       "      <td>3.208791</td>\n",
       "      <td>1.081319</td>\n",
       "      <td>1165.0</td>\n",
       "      <td>2.560440</td>\n",
       "      <td>37.32</td>\n",
       "      <td>-121.93</td>\n",
       "    </tr>\n",
       "    <tr>\n",
       "      <th>11343</th>\n",
       "      <td>4.0500</td>\n",
       "      <td>21.0</td>\n",
       "      <td>4.471318</td>\n",
       "      <td>1.026357</td>\n",
       "      <td>2613.0</td>\n",
       "      <td>4.051163</td>\n",
       "      <td>33.76</td>\n",
       "      <td>-117.93</td>\n",
       "    </tr>\n",
       "    <tr>\n",
       "      <th>11564</th>\n",
       "      <td>4.4545</td>\n",
       "      <td>24.0</td>\n",
       "      <td>4.497608</td>\n",
       "      <td>0.968900</td>\n",
       "      <td>967.0</td>\n",
       "      <td>2.313397</td>\n",
       "      <td>33.76</td>\n",
       "      <td>-117.98</td>\n",
       "    </tr>\n",
       "  </tbody>\n",
       "</table>\n",
       "<p>12384 rows × 8 columns</p>\n",
       "</div>"
      ],
      "text/plain": [
       "       MedInc  HouseAge  AveRooms  AveBedrms  Population  AveOccup  Latitude  \\\n",
       "19939  2.7336      14.0  4.800000   0.980000       931.0  2.660000     36.30   \n",
       "9353   6.1444      34.0  6.529268   1.002439       933.0  2.275610     37.95   \n",
       "8147   5.3735      36.0  5.681818   0.974432       956.0  2.715909     33.83   \n",
       "3823   2.7118      25.0  3.841004   1.235983      2723.0  2.278661     34.20   \n",
       "1495   6.0704      26.0  7.359091   1.018182       706.0  3.209091     37.94   \n",
       "...       ...       ...       ...        ...         ...       ...       ...   \n",
       "1360   3.3661      31.0  5.586481   1.029821      1640.0  3.260437     38.05   \n",
       "16147  4.0208      52.0  5.877432   1.107004      1479.0  2.877432     37.78   \n",
       "17568  2.5833      52.0  3.208791   1.081319      1165.0  2.560440     37.32   \n",
       "11343  4.0500      21.0  4.471318   1.026357      2613.0  4.051163     33.76   \n",
       "11564  4.4545      24.0  4.497608   0.968900       967.0  2.313397     33.76   \n",
       "\n",
       "       Longitude  \n",
       "19939    -119.32  \n",
       "9353     -122.56  \n",
       "8147     -118.10  \n",
       "3823     -118.47  \n",
       "1495     -122.01  \n",
       "...          ...  \n",
       "1360     -121.98  \n",
       "16147    -122.47  \n",
       "17568    -121.93  \n",
       "11343    -117.93  \n",
       "11564    -117.98  \n",
       "\n",
       "[12384 rows x 8 columns]"
      ]
     },
     "execution_count": 437,
     "metadata": {},
     "output_type": "execute_result"
    }
   ],
   "source": [
    "X_train"
   ]
  },
  {
   "cell_type": "code",
   "execution_count": 438,
   "id": "41081dab-9237-4e0a-91ab-10e5800edcc4",
   "metadata": {},
   "outputs": [
    {
     "data": {
      "text/plain": [
       "array([[-0.59875517, -1.14957585, -0.2624155 , ..., -0.03409191,\n",
       "         0.31252126,  0.1239062 ],\n",
       "       [ 1.20261733,  0.42977498,  0.45887005, ..., -0.06506098,\n",
       "         1.08259844, -1.48780062],\n",
       "       [ 0.79547588,  0.58771006,  0.10539481, ..., -0.0295875 ,\n",
       "        -0.84026095,  0.73078345],\n",
       "       ...,\n",
       "       [-0.67813429,  1.85119073, -0.92611581, ..., -0.04211317,\n",
       "         0.78856897, -1.17441318],\n",
       "       [ 0.09648546, -0.59680306, -0.3995103 , ...,  0.07798954,\n",
       "        -0.87293089,  0.81534831],\n",
       "       [ 0.31011721, -0.35990044, -0.3885447 , ..., -0.06201657,\n",
       "        -0.87293089,  0.7904763 ]])"
      ]
     },
     "execution_count": 438,
     "metadata": {},
     "output_type": "execute_result"
    }
   ],
   "source": [
    "s3 = StandardScaler()\n",
    "X_train = s3.fit_transform(X_train)\n",
    "X_train"
   ]
  },
  {
   "cell_type": "code",
   "execution_count": 439,
   "id": "9ab5d37d-0ae3-4980-9fac-1fb2e26a7943",
   "metadata": {},
   "outputs": [],
   "source": [
    "X_test = s3.transform(X_test)"
   ]
  },
  {
   "cell_type": "code",
   "execution_count": 440,
   "id": "b9226366-dc2f-432b-9a39-36d9dd9b0d48",
   "metadata": {},
   "outputs": [],
   "source": [
    "model = LinearRegression()"
   ]
  },
  {
   "cell_type": "code",
   "execution_count": 441,
   "id": "c0fcee09-f28b-4845-b0a3-71fdc814ebc9",
   "metadata": {},
   "outputs": [
    {
     "data": {
      "text/html": [
       "<style>#sk-container-id-23 {color: black;background-color: white;}#sk-container-id-23 pre{padding: 0;}#sk-container-id-23 div.sk-toggleable {background-color: white;}#sk-container-id-23 label.sk-toggleable__label {cursor: pointer;display: block;width: 100%;margin-bottom: 0;padding: 0.3em;box-sizing: border-box;text-align: center;}#sk-container-id-23 label.sk-toggleable__label-arrow:before {content: \"▸\";float: left;margin-right: 0.25em;color: #696969;}#sk-container-id-23 label.sk-toggleable__label-arrow:hover:before {color: black;}#sk-container-id-23 div.sk-estimator:hover label.sk-toggleable__label-arrow:before {color: black;}#sk-container-id-23 div.sk-toggleable__content {max-height: 0;max-width: 0;overflow: hidden;text-align: left;background-color: #f0f8ff;}#sk-container-id-23 div.sk-toggleable__content pre {margin: 0.2em;color: black;border-radius: 0.25em;background-color: #f0f8ff;}#sk-container-id-23 input.sk-toggleable__control:checked~div.sk-toggleable__content {max-height: 200px;max-width: 100%;overflow: auto;}#sk-container-id-23 input.sk-toggleable__control:checked~label.sk-toggleable__label-arrow:before {content: \"▾\";}#sk-container-id-23 div.sk-estimator input.sk-toggleable__control:checked~label.sk-toggleable__label {background-color: #d4ebff;}#sk-container-id-23 div.sk-label input.sk-toggleable__control:checked~label.sk-toggleable__label {background-color: #d4ebff;}#sk-container-id-23 input.sk-hidden--visually {border: 0;clip: rect(1px 1px 1px 1px);clip: rect(1px, 1px, 1px, 1px);height: 1px;margin: -1px;overflow: hidden;padding: 0;position: absolute;width: 1px;}#sk-container-id-23 div.sk-estimator {font-family: monospace;background-color: #f0f8ff;border: 1px dotted black;border-radius: 0.25em;box-sizing: border-box;margin-bottom: 0.5em;}#sk-container-id-23 div.sk-estimator:hover {background-color: #d4ebff;}#sk-container-id-23 div.sk-parallel-item::after {content: \"\";width: 100%;border-bottom: 1px solid gray;flex-grow: 1;}#sk-container-id-23 div.sk-label:hover label.sk-toggleable__label {background-color: #d4ebff;}#sk-container-id-23 div.sk-serial::before {content: \"\";position: absolute;border-left: 1px solid gray;box-sizing: border-box;top: 0;bottom: 0;left: 50%;z-index: 0;}#sk-container-id-23 div.sk-serial {display: flex;flex-direction: column;align-items: center;background-color: white;padding-right: 0.2em;padding-left: 0.2em;position: relative;}#sk-container-id-23 div.sk-item {position: relative;z-index: 1;}#sk-container-id-23 div.sk-parallel {display: flex;align-items: stretch;justify-content: center;background-color: white;position: relative;}#sk-container-id-23 div.sk-item::before, #sk-container-id-23 div.sk-parallel-item::before {content: \"\";position: absolute;border-left: 1px solid gray;box-sizing: border-box;top: 0;bottom: 0;left: 50%;z-index: -1;}#sk-container-id-23 div.sk-parallel-item {display: flex;flex-direction: column;z-index: 1;position: relative;background-color: white;}#sk-container-id-23 div.sk-parallel-item:first-child::after {align-self: flex-end;width: 50%;}#sk-container-id-23 div.sk-parallel-item:last-child::after {align-self: flex-start;width: 50%;}#sk-container-id-23 div.sk-parallel-item:only-child::after {width: 0;}#sk-container-id-23 div.sk-dashed-wrapped {border: 1px dashed gray;margin: 0 0.4em 0.5em 0.4em;box-sizing: border-box;padding-bottom: 0.4em;background-color: white;}#sk-container-id-23 div.sk-label label {font-family: monospace;font-weight: bold;display: inline-block;line-height: 1.2em;}#sk-container-id-23 div.sk-label-container {text-align: center;}#sk-container-id-23 div.sk-container {/* jupyter's `normalize.less` sets `[hidden] { display: none; }` but bootstrap.min.css set `[hidden] { display: none !important; }` so we also need the `!important` here to be able to override the default hidden behavior on the sphinx rendered scikit-learn.org. See: https://github.com/scikit-learn/scikit-learn/issues/21755 */display: inline-block !important;position: relative;}#sk-container-id-23 div.sk-text-repr-fallback {display: none;}</style><div id=\"sk-container-id-23\" class=\"sk-top-container\"><div class=\"sk-text-repr-fallback\"><pre>LinearRegression()</pre><b>In a Jupyter environment, please rerun this cell to show the HTML representation or trust the notebook. <br />On GitHub, the HTML representation is unable to render, please try loading this page with nbviewer.org.</b></div><div class=\"sk-container\" hidden><div class=\"sk-item\"><div class=\"sk-estimator sk-toggleable\"><input class=\"sk-toggleable__control sk-hidden--visually\" id=\"sk-estimator-id-23\" type=\"checkbox\" checked><label for=\"sk-estimator-id-23\" class=\"sk-toggleable__label sk-toggleable__label-arrow\">LinearRegression</label><div class=\"sk-toggleable__content\"><pre>LinearRegression()</pre></div></div></div></div></div>"
      ],
      "text/plain": [
       "LinearRegression()"
      ]
     },
     "execution_count": 441,
     "metadata": {},
     "output_type": "execute_result"
    }
   ],
   "source": [
    "model.fit(X_train, Y_train)"
   ]
  },
  {
   "cell_type": "code",
   "execution_count": 442,
   "id": "de63d9e0-1c66-4848-a6d0-b672ab90934e",
   "metadata": {},
   "outputs": [
    {
     "data": {
      "text/plain": [
       "array([-0.52103083, -0.5182587 , -0.54489394, -0.55859716, -0.54428868])"
      ]
     },
     "execution_count": 442,
     "metadata": {},
     "output_type": "execute_result"
    }
   ],
   "source": [
    "mse = cross_val_score(model, X_train, Y_train, scoring='neg_mean_squared_error', cv=5)\n",
    "mse"
   ]
  },
  {
   "cell_type": "code",
   "execution_count": 443,
   "id": "8ca8ddde-ad64-4789-973d-4d2098d2865a",
   "metadata": {},
   "outputs": [
    {
     "data": {
      "text/plain": [
       "-0.537413865266467"
      ]
     },
     "execution_count": 443,
     "metadata": {},
     "output_type": "execute_result"
    }
   ],
   "source": [
    "np.mean(mse)"
   ]
  },
  {
   "cell_type": "code",
   "execution_count": 444,
   "id": "4de28789-93b9-4833-9ff6-bb6916bacdae",
   "metadata": {},
   "outputs": [
    {
     "data": {
      "text/plain": [
       "array([-0.52910599, -0.53312775, -0.54159778, -0.53800773, -0.53534878])"
      ]
     },
     "execution_count": 444,
     "metadata": {},
     "output_type": "execute_result"
    }
   ],
   "source": [
    "mse2 = cross_val_score(model, X_train, Y_train, scoring='neg_mean_absolute_error', cv=5)\n",
    "mse2"
   ]
  },
  {
   "cell_type": "code",
   "execution_count": 445,
   "id": "0ce6ca1b-034e-463f-8e25-13367814e00e",
   "metadata": {},
   "outputs": [
    {
     "data": {
      "text/plain": [
       "-0.5354376072672314"
      ]
     },
     "execution_count": 445,
     "metadata": {},
     "output_type": "execute_result"
    }
   ],
   "source": [
    "np.mean(mse2)"
   ]
  },
  {
   "cell_type": "code",
   "execution_count": 446,
   "id": "8d4d1456-1bc7-4fca-9b1b-76ba93d4becd",
   "metadata": {},
   "outputs": [
    {
     "data": {
      "text/plain": [
       "array([-0.50245604, -0.54584112, -0.53530468, -0.50223278, -0.55254075,\n",
       "       -0.53635726, -0.56710787, -0.56267065, -0.57720621, -0.5095012 ])"
      ]
     },
     "execution_count": 446,
     "metadata": {},
     "output_type": "execute_result"
    }
   ],
   "source": [
    "mse3 = cross_val_score(model, X_train, Y_train, scoring='neg_mean_squared_error', cv=10)\n",
    "mse3"
   ]
  },
  {
   "cell_type": "code",
   "execution_count": 447,
   "id": "3ba12cee-d8aa-47fd-9e90-62e649ba9ba3",
   "metadata": {},
   "outputs": [
    {
     "data": {
      "text/plain": [
       "-0.5391218569495526"
      ]
     },
     "execution_count": 447,
     "metadata": {},
     "output_type": "execute_result"
    }
   ],
   "source": [
    "np.mean(mse3)"
   ]
  },
  {
   "cell_type": "code",
   "execution_count": 448,
   "id": "57bf4c11-32b3-492d-a7ff-aadcb6218f99",
   "metadata": {},
   "outputs": [
    {
     "data": {
      "text/plain": [
       "array([1.44419508, 3.14982857, 1.81555474, ..., 2.19867646, 1.61966484,\n",
       "       1.66507933])"
      ]
     },
     "execution_count": 448,
     "metadata": {},
     "output_type": "execute_result"
    }
   ],
   "source": [
    "mdpd = model.predict(X_test)\n",
    "mdpd"
   ]
  },
  {
   "cell_type": "code",
   "execution_count": 449,
   "id": "73cd19c4-1981-49b7-af88-4292f50c8cfe",
   "metadata": {},
   "outputs": [
    {
     "name": "stderr",
     "output_type": "stream",
     "text": [
      "C:\\anaconda\\Lib\\site-packages\\seaborn\\_oldcore.py:1119: FutureWarning: use_inf_as_na option is deprecated and will be removed in a future version. Convert inf values to NaN before operating instead.\n",
      "  with pd.option_context('mode.use_inf_as_na', True):\n"
     ]
    },
    {
     "data": {
      "text/plain": [
       "<seaborn.axisgrid.FacetGrid at 0x2009cd55010>"
      ]
     },
     "execution_count": 449,
     "metadata": {},
     "output_type": "execute_result"
    },
    {
     "data": {
      "image/png": "[encoded data removed]",
      "text/plain": [
       "<Figure size 500x500 with 1 Axes>"
      ]
     },
     "metadata": {},
     "output_type": "display_data"
    }
   ],
   "source": [
    "sns.displot(Y_test-mdpd, kind='kde')"
   ]
  },
  {
   "cell_type": "code",
   "execution_count": 450,
   "id": "ee6ca9b6-3012-4b31-887c-43fb76141b46",
   "metadata": {},
   "outputs": [
    {
     "name": "stdout",
     "output_type": "stream",
     "text": [
      "2.0682675847868217\n",
      "[ 0.84189605  0.11204697 -0.28552262  0.30406382 -0.00984512 -0.04731322\n",
      " -0.87536883 -0.84861894]\n"
     ]
    }
   ],
   "source": [
    "print(model.intercept_)\n",
    "print(model.coef_)"
   ]
  },
  {
   "cell_type": "code",
   "execution_count": null,
   "id": "a690353f-2966-4d5e-91ec-21a4f4eb8f37",
   "metadata": {},
   "outputs": [],
   "source": []
  },
  {
   "cell_type": "code",
   "execution_count": null,
   "id": "85066930-330e-4cec-8014-3d19e3274dac",
   "metadata": {},
   "outputs": [],
   "source": []
  }
 ],
 "metadata": {
  "kernelspec": {
   "display_name": "Python 3 (ipykernel)",
   "language": "python",
   "name": "python3"
  },
  "language_info": {
   "codemirror_mode": {
    "name": "ipython",
    "version": 3
   },
   "file_extension": ".py",
   "mimetype": "text/x-python",
   "name": "python",
   "nbconvert_exporter": "python",
   "pygments_lexer": "ipython3",
   "version": "3.11.7"
  }
 },
 "nbformat": 4,
 "nbformat_minor": 5
}
